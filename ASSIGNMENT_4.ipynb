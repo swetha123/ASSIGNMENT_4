{
 "cells": [
  {
   "cell_type": "markdown",
   "id": "092d85bf",
   "metadata": {},
   "source": [
    "# ASSIGNMENT 4\n"
   ]
  },
  {
   "cell_type": "markdown",
   "id": "3b1f04f5",
   "metadata": {},
   "source": [
    "1. What exactly is []?\n",
    "\n",
    "Ans - [] is the sytax that denotes an empty list. it means the list contains no values"
   ]
  },
  {
   "cell_type": "markdown",
   "id": "6fe04d1c",
   "metadata": {},
   "source": [
    "2. In a list of values stored in a variable called spam, how would you assign the value &#39;hello&#39; as the\n",
    "third value? (Assume [2, 4, 6, 8, 10] are in spam.)"
   ]
  },
  {
   "cell_type": "code",
   "execution_count": 1,
   "id": "1ae57e7d",
   "metadata": {},
   "outputs": [],
   "source": [
    "spam = [2,4,6,8,10]\n",
    "spam.insert(2,\"hello\")"
   ]
  },
  {
   "cell_type": "code",
   "execution_count": 2,
   "id": "73566500",
   "metadata": {},
   "outputs": [
    {
     "data": {
      "text/plain": [
       "[2, 4, 'hello', 6, 8, 10]"
      ]
     },
     "execution_count": 2,
     "metadata": {},
     "output_type": "execute_result"
    }
   ],
   "source": [
    "spam"
   ]
  },
  {
   "cell_type": "markdown",
   "id": "60a6d398",
   "metadata": {},
   "source": [
    "Let&#39;s pretend the spam includes the list [&#39;a&#39;, &#39;b&#39;, &#39;c&#39;, &#39;d&#39;] for the next three queries."
   ]
  },
  {
   "cell_type": "markdown",
   "id": "5388d2ce",
   "metadata": {},
   "source": [
    "3. What is the value of spam[int(int(&#39;3&#39; * 2) / 11)]?"
   ]
  },
  {
   "cell_type": "code",
   "execution_count": 3,
   "id": "25cfa3ce",
   "metadata": {},
   "outputs": [],
   "source": [
    "spam = ['a','b','c','d']"
   ]
  },
  {
   "cell_type": "code",
   "execution_count": 4,
   "id": "0c45d36e",
   "metadata": {},
   "outputs": [
    {
     "ename": "TypeError",
     "evalue": "unsupported operand type(s) for /: 'str' and 'int'",
     "output_type": "error",
     "traceback": [
      "\u001b[1;31m---------------------------------------------------------------------------\u001b[0m",
      "\u001b[1;31mTypeError\u001b[0m                                 Traceback (most recent call last)",
      "Cell \u001b[1;32mIn[4], line 1\u001b[0m\n\u001b[1;32m----> 1\u001b[0m spam[\u001b[38;5;28mint\u001b[39m(\u001b[38;5;28mint\u001b[39m(\u001b[38;5;124;43m'\u001b[39;49m\u001b[38;5;124;43m3\u001b[39;49m\u001b[38;5;124;43m'\u001b[39;49m\u001b[38;5;241;43m*\u001b[39;49m\u001b[38;5;241;43m2\u001b[39;49m\u001b[38;5;241;43m/\u001b[39;49m\u001b[38;5;241;43m11\u001b[39;49m))]\n",
      "\u001b[1;31mTypeError\u001b[0m: unsupported operand type(s) for /: 'str' and 'int'"
     ]
    }
   ],
   "source": [
    "# 3 . ans - the below code gives an error because we cant multiply or concatenate a string and integer.\n",
    "spam[int(int('3'*2/11))]"
   ]
  },
  {
   "cell_type": "code",
   "execution_count": 5,
   "id": "9c5ab58a",
   "metadata": {},
   "outputs": [
    {
     "data": {
      "text/plain": [
       "'a'"
      ]
     },
     "execution_count": 5,
     "metadata": {},
     "output_type": "execute_result"
    }
   ],
   "source": [
    "# can be modified as such\n",
    "spam[int(int('3')*2/11)]"
   ]
  },
  {
   "cell_type": "markdown",
   "id": "ef3be4d7",
   "metadata": {},
   "source": [
    "4. What is the value of spam[-1]?"
   ]
  },
  {
   "cell_type": "code",
   "execution_count": 7,
   "id": "797f0a68",
   "metadata": {},
   "outputs": [
    {
     "data": {
      "text/plain": [
       "'d'"
      ]
     },
     "execution_count": 7,
     "metadata": {},
     "output_type": "execute_result"
    }
   ],
   "source": [
    "spam[-1] # it will return the first string from the last "
   ]
  },
  {
   "cell_type": "markdown",
   "id": "98fac35d",
   "metadata": {},
   "source": [
    "5. What is the value of spam[:2]?"
   ]
  },
  {
   "cell_type": "code",
   "execution_count": 9,
   "id": "8ce13e4d",
   "metadata": {},
   "outputs": [
    {
     "data": {
      "text/plain": [
       "['a', 'b']"
      ]
     },
     "execution_count": 9,
     "metadata": {},
     "output_type": "execute_result"
    }
   ],
   "source": [
    "spam[:2] # it will return the values from 0 to 2 index except the upperbound which is 2 index"
   ]
  },
  {
   "cell_type": "markdown",
   "id": "b1a63d65",
   "metadata": {},
   "source": [
    "Let&#39;s pretend bacon has the list [3.14, &#39;cat,&#39; 11, &#39;cat,&#39; True] for the next three questions."
   ]
  },
  {
   "cell_type": "code",
   "execution_count": 2,
   "id": "851922e0",
   "metadata": {},
   "outputs": [],
   "source": [
    "bacon = [3.14,'cat',11,\"cat\",True]"
   ]
  },
  {
   "cell_type": "markdown",
   "id": "e3013a3b",
   "metadata": {},
   "source": [
    "6. What is the value of bacon.index(&#39;cat&#39;)?"
   ]
  },
  {
   "cell_type": "code",
   "execution_count": 3,
   "id": "357ecc9a",
   "metadata": {},
   "outputs": [
    {
     "data": {
      "text/plain": [
       "1"
      ]
     },
     "execution_count": 3,
     "metadata": {},
     "output_type": "execute_result"
    }
   ],
   "source": [
    "bacon.index(\"cat\")\n",
    "# since the index starts from 0 , therefore it will give the index of first duplicate value"
   ]
  },
  {
   "cell_type": "markdown",
   "id": "906a7ddb",
   "metadata": {},
   "source": [
    "7. How does bacon.append(99) change the look of the list value in bacon?"
   ]
  },
  {
   "cell_type": "code",
   "execution_count": 6,
   "id": "691bc120",
   "metadata": {},
   "outputs": [],
   "source": [
    "bacon.append(99)\n",
    "# with this line of code, the value 99 will be added at the end of the list as a 6th element"
   ]
  },
  {
   "cell_type": "code",
   "execution_count": 9,
   "id": "a77ad437",
   "metadata": {},
   "outputs": [
    {
     "data": {
      "text/plain": [
       "[3.14, 'cat', 11, 'cat', True, 99]"
      ]
     },
     "execution_count": 9,
     "metadata": {},
     "output_type": "execute_result"
    }
   ],
   "source": [
    "bacon"
   ]
  },
  {
   "cell_type": "markdown",
   "id": "626ce843",
   "metadata": {},
   "source": [
    "8. How does bacon.remove(&#39;cat&#39;) change the look of the list in bacon?"
   ]
  },
  {
   "cell_type": "code",
   "execution_count": 10,
   "id": "5b65fafe",
   "metadata": {},
   "outputs": [],
   "source": [
    "bacon.remove(\"cat\")\n",
    "# this line of code will remove the value \"cat\" that comes first in the list from the list"
   ]
  },
  {
   "cell_type": "code",
   "execution_count": 11,
   "id": "dcd50d41",
   "metadata": {},
   "outputs": [
    {
     "data": {
      "text/plain": [
       "[3.14, 11, 'cat', True, 99]"
      ]
     },
     "execution_count": 11,
     "metadata": {},
     "output_type": "execute_result"
    }
   ],
   "source": [
    "bacon"
   ]
  },
  {
   "cell_type": "markdown",
   "id": "3b5c7495",
   "metadata": {},
   "source": [
    "9. What are the list concatenation and list replication operators?\n",
    "\n",
    "Ans - list concatenation operator is + . list replication operator is *"
   ]
  },
  {
   "cell_type": "code",
   "execution_count": 13,
   "id": "440dcd79",
   "metadata": {},
   "outputs": [],
   "source": [
    "# example \n",
    "list1 = [123,23,4543,2,3,\"hello\"]\n",
    "list2 = [\"world\",True,100]\n",
    "list3 = list1 + list2\n",
    "list4 = list2 * 2"
   ]
  },
  {
   "cell_type": "code",
   "execution_count": 14,
   "id": "7a998a5a",
   "metadata": {},
   "outputs": [
    {
     "data": {
      "text/plain": [
       "[123, 23, 4543, 2, 3, 'hello', 'world', True, 100]"
      ]
     },
     "execution_count": 14,
     "metadata": {},
     "output_type": "execute_result"
    }
   ],
   "source": [
    "list3"
   ]
  },
  {
   "cell_type": "code",
   "execution_count": 15,
   "id": "6a918d00",
   "metadata": {},
   "outputs": [
    {
     "data": {
      "text/plain": [
       "['world', True, 100, 'world', True, 100]"
      ]
     },
     "execution_count": 15,
     "metadata": {},
     "output_type": "execute_result"
    }
   ],
   "source": [
    "list4"
   ]
  },
  {
   "cell_type": "markdown",
   "id": "a3429d38",
   "metadata": {},
   "source": [
    "10. What is difference between the list methods append() and insert()?\n",
    "\n",
    "Ans - list append() method will always add the value or element at the end of the list\n",
    "      but insert() method adds the element at any places or at any index position."
   ]
  },
  {
   "cell_type": "code",
   "execution_count": 18,
   "id": "a5daccf6",
   "metadata": {},
   "outputs": [
    {
     "data": {
      "text/plain": [
       "[1, 2, 100, 3, 4, 5, 6, 7]"
      ]
     },
     "execution_count": 18,
     "metadata": {},
     "output_type": "execute_result"
    }
   ],
   "source": [
    "# example \n",
    "l1 = [1,2,3,4,5,6]\n",
    "l1.append(7)\n",
    "l1.insert(2,100)\n",
    "l1"
   ]
  },
  {
   "cell_type": "markdown",
   "id": "ac2578ac",
   "metadata": {},
   "source": [
    "11. What are the two methods for removing items from a list?\n",
    "\n",
    "Ans - 2 methods are pop() and remove (). the method pop() deletes the element from the list based on the index number.\n",
    "      but the remove() method deletes an element based on the element value itself."
   ]
  },
  {
   "cell_type": "code",
   "execution_count": 20,
   "id": "91b3f531",
   "metadata": {},
   "outputs": [
    {
     "data": {
      "text/plain": [
       "22"
      ]
     },
     "execution_count": 20,
     "metadata": {},
     "output_type": "execute_result"
    }
   ],
   "source": [
    "# example \n",
    "l1 = [11,22,334,44,55,66]\n",
    "l1.pop(1)"
   ]
  },
  {
   "cell_type": "code",
   "execution_count": 21,
   "id": "649bf851",
   "metadata": {},
   "outputs": [],
   "source": [
    "l1.remove(55)"
   ]
  },
  {
   "cell_type": "code",
   "execution_count": 22,
   "id": "c974b645",
   "metadata": {},
   "outputs": [
    {
     "data": {
      "text/plain": [
       "[11, 334, 44, 66]"
      ]
     },
     "execution_count": 22,
     "metadata": {},
     "output_type": "execute_result"
    }
   ],
   "source": [
    "l1"
   ]
  },
  {
   "cell_type": "markdown",
   "id": "eeea6f25",
   "metadata": {},
   "source": [
    "12. Describe how list values and string values are identical.\n",
    "\n",
    "Ans - string is list of characters enclosed within quotes and list is series of values saperated by comma and emclosed within rectangular brackets . string and list are same in the ways like:\n",
    "  1. the characters in the string and values in the list have indexes and can be accessed through them\n",
    "  2. both have similar functions like len(),split()\n",
    "  "
   ]
  },
  {
   "cell_type": "markdown",
   "id": "f8eabb21",
   "metadata": {},
   "source": [
    "13. What&#39;s the difference between tuples and lists?\n",
    "\n",
    "Ans - list is mutable entity whose elements can be modified and has multiple funcitons to handle the data.\n",
    "      but tuple is a group of immutable entities whose values cant be reassigned. it si used when we want to keep the data fixed or permanent. it has limited functions "
   ]
  },
  {
   "cell_type": "markdown",
   "id": "949b0c93",
   "metadata": {},
   "source": [
    "14. How do you type a tuple value that only contains the integer 42?"
   ]
  },
  {
   "cell_type": "code",
   "execution_count": 27,
   "id": "2a3d3682",
   "metadata": {},
   "outputs": [],
   "source": [
    "tuple1 = (42,) \n",
    "# the comma is necessary if we want to have only 1 value in a tuple "
   ]
  },
  {
   "cell_type": "code",
   "execution_count": 28,
   "id": "0534f77f",
   "metadata": {},
   "outputs": [
    {
     "data": {
      "text/plain": [
       "tuple"
      ]
     },
     "execution_count": 28,
     "metadata": {},
     "output_type": "execute_result"
    }
   ],
   "source": [
    "type(tuple1)"
   ]
  },
  {
   "cell_type": "markdown",
   "id": "45a4ce28",
   "metadata": {},
   "source": [
    "15. How do you get a list value&#39;s tuple form? How do you get a tuple value&#39;s list form?"
   ]
  },
  {
   "cell_type": "code",
   "execution_count": 32,
   "id": "f80c6518",
   "metadata": {},
   "outputs": [
    {
     "data": {
      "text/plain": [
       "(2, 'hello', True, 34543)"
      ]
     },
     "execution_count": 32,
     "metadata": {},
     "output_type": "execute_result"
    }
   ],
   "source": [
    "l1 = [2,\"hello\",True,34543]\n",
    "t1 = tuple(l1)\n",
    "t1"
   ]
  },
  {
   "cell_type": "code",
   "execution_count": 33,
   "id": "d2002180",
   "metadata": {},
   "outputs": [
    {
     "data": {
      "text/plain": [
       "[123, 34, 'good morning']"
      ]
     },
     "execution_count": 33,
     "metadata": {},
     "output_type": "execute_result"
    }
   ],
   "source": [
    "t2 = (123,34,\"good morning\")\n",
    "l2 = list(t2)\n",
    "l2"
   ]
  },
  {
   "cell_type": "markdown",
   "id": "69703009",
   "metadata": {},
   "source": [
    "16. Variables that &quot;contain&quot; list values are not necessarily lists themselves. Instead, what do they\n",
    "contain?\n",
    "\n",
    "Ans - varibles that contain the list values actually contain the references to those values "
   ]
  },
  {
   "cell_type": "markdown",
   "id": "34c8cb3e",
   "metadata": {},
   "source": [
    "17. How do you distinguish between copy.copy() and copy.deepcopy()?\n",
    "\n",
    "Ans - copy.copy() method is used to create a new object which is referencing to the original entity. it is called as shallow copy. the changes made in the copied objects are reflected in the original entity. \n",
    "      but in copy.deepcopy() ,it create a new object as well as references the new set of values copied from the original one.the changes made in deep copied elements are not reflected inthe original one ."
   ]
  },
  {
   "cell_type": "code",
   "execution_count": null,
   "id": "9c7dd695",
   "metadata": {},
   "outputs": [],
   "source": []
  }
 ],
 "metadata": {
  "kernelspec": {
   "display_name": "Python 3 (ipykernel)",
   "language": "python",
   "name": "python3"
  },
  "language_info": {
   "codemirror_mode": {
    "name": "ipython",
    "version": 3
   },
   "file_extension": ".py",
   "mimetype": "text/x-python",
   "name": "python",
   "nbconvert_exporter": "python",
   "pygments_lexer": "ipython3",
   "version": "3.10.9"
  }
 },
 "nbformat": 4,
 "nbformat_minor": 5
}
